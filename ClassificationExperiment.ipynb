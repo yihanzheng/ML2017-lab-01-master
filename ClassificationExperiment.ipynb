{
 "cells": [
  {
   "cell_type": "code",
   "execution_count": 1,
   "metadata": {},
   "outputs": [
    {
     "name": "stdout",
     "output_type": "stream",
     "text": [
      "(690, 15)\n",
      "(690,)\n"
     ]
    }
   ],
   "source": [
    "# Linear classification\n",
    "import numpy as np\n",
    "import matplotlib.pyplot as plt\n",
    "from numpy import random\n",
    "from sklearn.externals.joblib import Memory\n",
    "from sklearn.datasets import load_svmlight_file\n",
    "from sklearn.model_selection import train_test_split\n",
    "#mem = Memory(\"./mycache\")\n",
    "path = './australian_scale.txt'\n",
    "\n",
    "#get the dataset\n",
    "def get_data(path):\n",
    "    data = load_svmlight_file(path)\n",
    "    return data[0], data[1]\n",
    "\n",
    "X, y = get_data(path)\n",
    "X = X.toarray()\n",
    "#y = W^T *X + b -> y = W_extend^T * [X,1]\n",
    "column = np.ones((X.shape[0]))\n",
    "X = np.column_stack((X,column))\n",
    "print(X.shape)\n",
    "print(y.shape)"
   ]
  },
  {
   "cell_type": "code",
   "execution_count": 2,
   "metadata": {},
   "outputs": [
    {
     "name": "stdout",
     "output_type": "stream",
     "text": [
      "(552, 15)\n",
      "(138, 15)\n",
      "(552,)\n",
      "(138,)\n"
     ]
    }
   ],
   "source": [
    "#divide into training data and validation data \n",
    "X_train, X_validation, y_train, y_validation = train_test_split(X, y, test_size=0.2, random_state=24)\n",
    "print(X_train.shape)\n",
    "print(X_validation.shape)\n",
    "print(y_train.shape)\n",
    "print(y_validation.shape)"
   ]
  },
  {
   "cell_type": "code",
   "execution_count": 3,
   "metadata": {
    "collapsed": true
   },
   "outputs": [],
   "source": [
    "N=X_train.shape[1]\n",
    "W_zeros = np.zeros(N)\n",
    "#print(W_zeros)"
   ]
  },
  {
   "cell_type": "code",
   "execution_count": 4,
   "metadata": {
    "collapsed": true
   },
   "outputs": [],
   "source": [
    "W_random = random.random(size=N)\n",
    "#print(W_random)"
   ]
  },
  {
   "cell_type": "code",
   "execution_count": 5,
   "metadata": {
    "collapsed": true
   },
   "outputs": [],
   "source": [
    "#use NumPy random.normal fuction to get datas in normal distribution \n",
    "W_normal = np.random.normal(size=N)\n",
    "#print(W_normal)"
   ]
  },
  {
   "cell_type": "markdown",
   "metadata": {},
   "source": [
    "Loss function(Hingle loss)\n",
    "$$L = \\frac{\\lambda }{2}||W||^2+\\frac{1}{n}\\sum_{i=1}^{n}\\; max\\left (0,1- y_{i} (W^{T}x_{i}+b) \\right) $$\n",
    "The gradient of the loss fuction\n",
    "$$G_W = \\left\\{\\begin{matrix}\n",
    "\\lambda W & y_{i}(W^{T}x_{i}+b)\\geq 1\n",
    "\\\\ \n",
    "\\lambda W+\\frac{1}{n}\\sum_{i=1}^{n}- y_{i}x_{i} & y_{i}(W^{T}x_{i}+b)< 1\n",
    "\\end{matrix}\\right.$$\n",
    "\n",
    "$$G_b = \\left\\{\\begin{matrix}\n",
    "0 & y_{i}(W^{T}x_{i}+b)\\geq 1\n",
    "\\\\ \n",
    "\\frac{1}{n}\\sum_{i=1}^{n}-y_{i} & y_{i}(W^{T}x_{i}+b)< 1\n",
    "\\end{matrix}\\right.$$"
   ]
  },
  {
   "cell_type": "code",
   "execution_count": 6,
   "metadata": {
    "collapsed": true
   },
   "outputs": [],
   "source": [
    "#calculate the loss\n",
    "def cal_Loss(X,W,y,lambdal,W_0):\n",
    "    preY = np.dot(X,W)\n",
    "    diifY = np.ones(y.shape[0]) - y * preY\n",
    "    diifY[diifY < 0] =0\n",
    "    Loss =np.sum(diifY) / X.shape[0] + np.dot(W_0,W_0.T)/2*lambdal\n",
    "    return Loss\n",
    "\n",
    "#calculate the gradient\n",
    "def cal_G(X,W,y,lambdal,W_0):\n",
    "    preY = np.dot(X,W)\n",
    "    diifY = np.ones(y.shape[0]) - y * preY\n",
    "    y_get = y.copy()\n",
    "    y_get[diifY <= 0] =0\n",
    "    G = -np.dot(y_get,X) / X.shape[0] + W_0 *lambdal\n",
    "    return G\n",
    "\n",
    "#calculate the accuracy\n",
    "def cal_Accuracy(X,W,y):\n",
    "    preY = np.dot(X,W)\n",
    "    count = np.sum(preY * y >0)\n",
    "    Accuracy = count / X.shape[0]\n",
    "    return Accuracy\n",
    "\n",
    "#draw the result\n",
    "def draw_plot(Loss_train,Loss_validation,Accuracy):\n",
    "    fig = plt.figure()\n",
    "    ax1 = fig.add_subplot(111)\n",
    "    ax1.plot(Loss_train,label=\"Loss_train\")\n",
    "    ax1.plot(Loss_validation,label=\"Loss_validation\")\n",
    "    ax1.set_ylabel(\"Loss\")\n",
    "    ax1.set_xlabel(\"Iteration\")\n",
    "    ax1.legend()\n",
    "    ax2 = ax1.twinx() \n",
    "    ax2.plot(Accuracy,label=\"Accuracy\",color = 'r')\n",
    "    ax2.legend()\n",
    "    ax2.set_ylabel(\"Accuracy\")\n",
    "    ax2.set_title(\"Linear classification\")\n",
    "    plt.show()"
   ]
  },
  {
   "cell_type": "markdown",
   "metadata": {},
   "source": [
    "Update the parameters W and b\n",
    "$$W = W - \\eta G_W$$\n",
    "$$b = b - \\eta G_b$$\n",
    "\n",
    "$\\eta$ is the learning rate.$\\lambda $ is the regularization parameter."
   ]
  },
  {
   "cell_type": "code",
   "execution_count": 16,
   "metadata": {},
   "outputs": [
    {
     "data": {
      "image/png": "[encoded data removed]",
      "text/plain": [
       "<matplotlib.figure.Figure at 0xae74cc0>"
      ]
     },
     "metadata": {},
     "output_type": "display_data"
    }
   ],
   "source": [
    "lr = 0.2\n",
    "iteration = 400\n",
    "lambdal = 0.5\n",
    "#get different kinds of initial data（W_zeros,W_random or W_normal）\n",
    "W = W_normal\n",
    "Loss_train = np.zeros(iteration)\n",
    "Loss_validation = np.zeros(iteration)\n",
    "Accuracy = np.zeros(iteration)\n",
    "for j in range(0,iteration):\n",
    "    W_0 = W.copy()\n",
    "    W_0[N-1]= 0\n",
    "    #the training loss\n",
    "    Loss_train[j] = cal_Loss(X_train,W,y_train,lambdal,W_0)\n",
    "    #the gradient of the loss function\n",
    "    G = cal_G(X_train,W,y_train,lambdal,W_0)\n",
    "    #the validation loss\n",
    "    Loss_validation[j] = cal_Loss(X_validation,W,y_validation,lambdal,W_0)\n",
    "    #accuracy\n",
    "    Accuracy[j] = cal_Accuracy(X_validation,W,y_validation)\n",
    "    #update the parameter W\n",
    "    W = W - G * lr\n",
    "#draw the result\n",
    "draw_plot(Loss_train,Loss_validation,Accuracy)"
   ]
  },
  {
   "cell_type": "code",
   "execution_count": null,
   "metadata": {
    "collapsed": true
   },
   "outputs": [],
   "source": []
  }
 ],
 "metadata": {
  "kernelspec": {
   "display_name": "Python 3",
   "language": "python",
   "name": "python3"
  },
  "language_info": {
   "codemirror_mode": {
    "name": "ipython",
    "version": 3
   },
   "file_extension": ".py",
   "mimetype": "text/x-python",
   "name": "python",
   "nbconvert_exporter": "python",
   "pygments_lexer": "ipython3",
   "version": "3.6.3"
  }
 },
 "nbformat": 4,
 "nbformat_minor": 2
}
