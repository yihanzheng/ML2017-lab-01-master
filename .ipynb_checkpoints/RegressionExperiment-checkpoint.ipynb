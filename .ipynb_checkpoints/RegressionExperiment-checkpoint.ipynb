{
 "cells": [
  {
   "cell_type": "code",
   "execution_count": 8,
   "metadata": {},
   "outputs": [
    {
     "name": "stdout",
     "output_type": "stream",
     "text": [
      "(506, 14)\n",
      "(506,)\n"
     ]
    }
   ],
   "source": [
    "# Linear regression\n",
    "import numpy as np\n",
    "import matplotlib.pyplot as plt\n",
    "from numpy import random\n",
    "from sklearn.externals.joblib import Memory\n",
    "from sklearn.datasets import load_svmlight_file\n",
    "from sklearn.model_selection import train_test_split\n",
    "#mem = Memory(\"./mycache\")\n",
    "path = './housing_scale.txt'\n",
    "\n",
    "#get the dataset\n",
    "def get_data(path):\n",
    "    data = load_svmlight_file(path)\n",
    "    return data[0], data[1]\n",
    "\n",
    "X, y = get_data(path)\n",
    "X = X.toarray()\n",
    "#y = W^T *X + b -> y = W_extend^T * [X,1]\n",
    "column = np.ones(( X.shape[0]))\n",
    "X = np.column_stack((X,column))\n",
    "print(X.shape)\n",
    "print(y.shape)"
   ]
  },
  {
   "cell_type": "code",
   "execution_count": 9,
   "metadata": {},
   "outputs": [
    {
     "name": "stdout",
     "output_type": "stream",
     "text": [
      "(404, 14)\n",
      "(102, 14)\n",
      "(404,)\n",
      "(102,)\n"
     ]
    }
   ],
   "source": [
    "#divide into training data and validation data \n",
    "X_train, X_validation, y_train, y_validation = train_test_split(X, y, test_size=0.2, random_state=24)\n",
    "print(X_train.shape)\n",
    "print(X_validation.shape)\n",
    "print(y_train.shape)\n",
    "print(y_validation.shape)"
   ]
  },
  {
   "cell_type": "code",
   "execution_count": 10,
   "metadata": {
    "collapsed": true
   },
   "outputs": [],
   "source": [
    "N = X_train.shape[1]\n",
    "W_zeros = np.zeros(N)\n",
    "#print(W_zeros)"
   ]
  },
  {
   "cell_type": "code",
   "execution_count": 11,
   "metadata": {
    "collapsed": true
   },
   "outputs": [],
   "source": [
    "W_random = random.random(size=N)\n",
    "#print(W_random)"
   ]
  },
  {
   "cell_type": "code",
   "execution_count": 12,
   "metadata": {
    "collapsed": true
   },
   "outputs": [],
   "source": [
    "#use NumPy random.normal fuction to get datas in normal distribution \n",
    "W_normal = np.random.normal(size=N)\n",
    "#print(W_normal)"
   ]
  },
  {
   "cell_type": "markdown",
   "metadata": {
    "collapsed": true
   },
   "source": [
    "Loss function(Least squared loss)\n",
    "$$L = \\frac{1}{2n}\\sum_{i=1}^{n}\\left ( y_{i} - W^{T}x_{i} \\right)^2 $$\n",
    "The gradient of the loss fuction\n",
    "$$G = \\frac{1}{n}\\sum_{i=1}^{n}(-x_{i}) * \\left (y_{i}  - W^{T}x_{i}\\right )$$"
   ]
  },
  {
   "cell_type": "code",
   "execution_count": 13,
   "metadata": {
    "collapsed": true
   },
   "outputs": [],
   "source": [
    "#calculate the loss\n",
    "def cal_Loss(X,W,y):\n",
    "    preY = np.dot(X,W)\n",
    "    diifY = y - preY\n",
    "    Loss = np.dot(diifY,diifY.T)/(2 * X.shape[0])\n",
    "    return Loss\n",
    "\n",
    "#calculate the gradient\n",
    "def cal_G(X,W,y):\n",
    "    preY = np.dot(X,W)\n",
    "    diifY = y - preY\n",
    "    G = - np.dot(diifY,X)/ X.shape[0]\n",
    "    return G\n",
    "\n",
    "#draw the result\n",
    "def draw_plot(Loss_train,Loss_validation):\n",
    "    plt.plot(Loss_train,label=\"Loss_train\")\n",
    "    plt.plot(Loss_validation,label=\"Loss_validation\")\n",
    "    plt.legend()\n",
    "    plt.xlabel(\"Iteration\")\n",
    "    plt.ylabel(\"Loss\")\n",
    "    plt.title(\"Linear regression\")\n",
    "    plt.show()"
   ]
  },
  {
   "cell_type": "markdown",
   "metadata": {},
   "source": [
    "Update the parameter W\n",
    "$$W = W - \\eta G$$\n",
    "$\\eta$ is the learning rate, which is pre-defined."
   ]
  },
  {
   "cell_type": "code",
   "execution_count": 15,
   "metadata": {},
   "outputs": [
    {
     "data": {
      "image/png": "[encoded data removed]",
      "text/plain": [
       "<matplotlib.figure.Figure at 0xa43b4a8>"
      ]
     },
     "metadata": {},
     "output_type": "display_data"
    }
   ],
   "source": [
    "lr = 0.2\n",
    "iteration = 200\n",
    "#get different kinds of initial data（W_zeros,W_random or W_normal）\n",
    "W = W_normal\n",
    "Loss_train = np.zeros(iteration)\n",
    "Loss_validation = np.zeros(iteration)\n",
    "for j in range(0,iteration):\n",
    "    #the training loss\n",
    "    Loss_train[j] = cal_Loss(X_train,W,y_train)\n",
    "    #the gradient of the loss function\n",
    "    G = cal_G(X_train,W,y_train)\n",
    "    #the validation loss\n",
    "    Loss_validation[j] = cal_Loss(X_validation,W,y_validation)\n",
    "    #update the parameter W\n",
    "    W = W - G * lr\n",
    "#draw the result\n",
    "draw_plot(Loss_train,Loss_validation)"
   ]
  },
  {
   "cell_type": "code",
   "execution_count": null,
   "metadata": {
    "collapsed": true
   },
   "outputs": [],
   "source": []
  }
 ],
 "metadata": {
  "kernelspec": {
   "display_name": "Python 3",
   "language": "python",
   "name": "python3"
  },
  "language_info": {
   "codemirror_mode": {
    "name": "ipython",
    "version": 3
   },
   "file_extension": ".py",
   "mimetype": "text/x-python",
   "name": "python",
   "nbconvert_exporter": "python",
   "pygments_lexer": "ipython3",
   "version": "3.6.3"
  }
 },
 "nbformat": 4,
 "nbformat_minor": 2
}
